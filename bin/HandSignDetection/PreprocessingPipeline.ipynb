{
 "cells": [
  {
   "cell_type": "code",
   "execution_count": 1,
   "metadata": {},
   "outputs": [],
   "source": [
    "import numpy as np\n",
    "import cv2"
   ]
  },
  {
   "cell_type": "code",
   "execution_count": 2,
   "metadata": {},
   "outputs": [],
   "source": [
    "import os"
   ]
  },
  {
   "cell_type": "code",
   "execution_count": 3,
   "metadata": {},
   "outputs": [],
   "source": [
    "filepre = 'data/1'\n",
    "imnames = os.listdir(filepre)"
   ]
  },
  {
   "cell_type": "code",
   "execution_count": 258,
   "metadata": {},
   "outputs": [],
   "source": [
    "def show(image, windowname = 'image'):\n",
    "    cv2.imshow(windowname, image)\n",
    "    keypress = cv2.waitKey(0)\n",
    "    if keypress:\n",
    "        cv2.destroyWindow(windowname)"
   ]
  },
  {
   "cell_type": "code",
   "execution_count": 255,
   "metadata": {},
   "outputs": [],
   "source": [
    "from numpy.linalg import norm\n",
    "\n",
    "def canny_norm_filter(image):\n",
    "    im = norm(image, axis = -1)/((3*(255**2))**.5)\n",
    "    return cv2.Canny( (im*255).astype(np.uint8), 100, 150)\n",
    "\n",
    "def canny_color_filter(image):\n",
    "    return cv2.Canny(image, 100, 150)\n",
    "\n",
    "def downsample_filter(image, by = 5):\n",
    "    return image[::by,::by,:]\n",
    "\n",
    "def difference_kernel(image, size = 3):\n",
    "    im = np.moveaxis(image, -1, 0)\n",
    "\n",
    "    size = 3\n",
    "    gradient_kernel = -np.ones([size, size])\n",
    "    gradient_kernel /= size**2\n",
    "    gradient_kernel[ int(size/2) ][ int(size/2) ] *= -1\n",
    "    \n",
    "    im = np.stack(correlate2d(im[a], gradient_kernel, boundary = 'symm') for a in range(3) )\n",
    "\n",
    "    return np.moveaxis(im, 0, -1).astype(np.uint8)"
   ]
  },
  {
   "cell_type": "code",
   "execution_count": 256,
   "metadata": {},
   "outputs": [],
   "source": [
    "def video_filter(*image_pipeline):\n",
    "    cap = cv2.VideoCapture(1)\n",
    "    cv2.namedWindow('Main', cv2.WINDOW_NORMAL)\n",
    "        \n",
    "    while cap.isOpened():\n",
    "        ret, frame = cap.read()\n",
    "        \n",
    "        for filter in image_pipeline:\n",
    "            frame = filter(frame)\n",
    "        \n",
    "        cv2.imshow('Main', frame)\n",
    "        \n",
    "        keypress = cv2.waitKey(1)\n",
    "        if keypress == ord('q'):\n",
    "            break\n",
    "            \n",
    "    cap.release()\n",
    "    cv2.destroyAllWindows()"
   ]
  },
  {
   "cell_type": "code",
   "execution_count": 257,
   "metadata": {},
   "outputs": [],
   "source": [
    "video_filter(downsample_filter, canny_norm_filter)"
   ]
  }
 ],
 "metadata": {
  "kernelspec": {
   "display_name": "Python 3",
   "language": "python",
   "name": "python3"
  },
  "language_info": {
   "codemirror_mode": {
    "name": "ipython",
    "version": 3
   },
   "file_extension": ".py",
   "mimetype": "text/x-python",
   "name": "python",
   "nbconvert_exporter": "python",
   "pygments_lexer": "ipython3",
   "version": "3.7.1"
  }
 },
 "nbformat": 4,
 "nbformat_minor": 2
}

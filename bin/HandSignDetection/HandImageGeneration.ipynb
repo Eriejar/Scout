{
 "cells": [
  {
   "cell_type": "code",
   "execution_count": 1,
   "metadata": {},
   "outputs": [],
   "source": [
    "import cv2"
   ]
  },
  {
   "cell_type": "code",
   "execution_count": 6,
   "metadata": {},
   "outputs": [],
   "source": [
    "from string import ascii_lowercase\n",
    "from random import choices\n",
    "\n",
    "def take_pictures():\n",
    "    cap = cv2.VideoCapture(1)\n",
    "    cv2.namedWindow('Main', cv2.WINDOW_NORMAL)\n",
    "    #cv2.resizeWindow('Main', (640, 480) )\n",
    "    \n",
    "    images = []\n",
    "    \n",
    "    while cap.isOpened():\n",
    "        ret, frame = cap.read()\n",
    "        \n",
    "        cv2.imshow('Main', frame)\n",
    "        \n",
    "        keypress = cv2.waitKey(1)\n",
    "        if keypress == ord('q'):\n",
    "            break\n",
    "        for a in range(10):\n",
    "            if keypress == ord(str(a) ):\n",
    "                images.append( (a, frame) )\n",
    "                break\n",
    "    cap.release()\n",
    "    cv2.destroyAllWindows()\n",
    "    \n",
    "    return images\n",
    "\n",
    "def save_images(annotated):\n",
    "    '''\n",
    "        Args:\n",
    "            annotated:\n",
    "                Iterable of (number, image) corresponding to command number\n",
    "        Desc:\n",
    "            Save images to proper folder, using counter\n",
    "    '''\n",
    "    for num, image in annotated:\n",
    "        filepre = ''.join(choices(ascii_lowercase, k = 15) )\n",
    "        cv2.imwrite( 'data/{}/{}.png'.format(num, filepre ), image )"
   ]
  },
  {
   "cell_type": "code",
   "execution_count": 9,
   "metadata": {},
   "outputs": [],
   "source": [
    "images = take_pictures()\n",
    "save_images(images)"
   ]
  }
 ],
 "metadata": {
  "kernelspec": {
   "display_name": "Python 3",
   "language": "python",
   "name": "python3"
  },
  "language_info": {
   "codemirror_mode": {
    "name": "ipython",
    "version": 3
   },
   "file_extension": ".py",
   "mimetype": "text/x-python",
   "name": "python",
   "nbconvert_exporter": "python",
   "pygments_lexer": "ipython3",
   "version": "3.7.1"
  }
 },
 "nbformat": 4,
 "nbformat_minor": 2
}
